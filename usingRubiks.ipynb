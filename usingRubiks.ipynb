{
 "cells": [
  {
   "cell_type": "code",
   "execution_count": 1,
   "metadata": {},
   "outputs": [
    {
     "data": {
      "text/plain": [
       "<module 'rubik_cube' from '/home/ouadie/workspace/personal/pythonWorkspace/initialProj/rubik_cube.py'>"
      ]
     },
     "execution_count": 1,
     "metadata": {},
     "output_type": "execute_result"
    }
   ],
   "source": [
    "import rubik_cube as rc\n",
    "import importlib\n",
    "importlib.reload(rc)"
   ]
  },
  {
   "cell_type": "markdown",
   "metadata": {},
   "source": [
    "## I. Demos & Examples\n",
    "### I.1 3D Cube\n",
    "\n",
    "By default, `RubikCube` class has a default constructor expecting the dimension of the cube, which defaults to `dim=3` *(equivalent to 3x3 standard Rubik's Cube)*.  "
   ]
  },
  {
   "cell_type": "code",
   "execution_count": 2,
   "metadata": {},
   "outputs": [
    {
     "data": {
      "image/png": "[encoded data removed]",
      "text/plain": [
       "<Figure size 640x480 with 12 Axes>"
      ]
     },
     "metadata": {},
     "output_type": "display_data"
    }
   ],
   "source": [
    "# 3D Cube instatiation & display\n",
    "My3DCube = rc.RubikCube()\n",
    "My3DCube.display()"
   ]
  },
  {
   "cell_type": "markdown",
   "metadata": {},
   "source": [
    "The layout above is a widely adopted flat representation of the 3D cube, which corresponds to a reality-like flattening of the cube starting from the Front face *(Green in our case)* : \n",
    "\n",
    "- F *(Front - Green)* : The face currently facing the user.\n",
    "- B *(Back - Blue)* : The face opposite to the front.\n",
    "- U *(Up - White)* : The face on top of the cube.\n",
    "- D *(Down - Yellow)* : The face on the bottom of the cube.\n",
    "- L *(Left - Orange)* : The face to the left side of the front face.\n",
    "- R *(Right - Red)* : The face to the right side of the front face.\n",
    "\n",
    "For debugging/investigation purposes, you can use `print_all_faces()` as well to display a numerical version of the previous figure."
   ]
  },
  {
   "cell_type": "code",
   "execution_count": 3,
   "metadata": {},
   "outputs": [
    {
     "name": "stdout",
     "output_type": "stream",
     "text": [
      "FaceId 0:\n",
      "[0 0 0]\n",
      "[0 0 0]\n",
      "[0 0 0]\n",
      "FaceId 1:\n",
      "[1 1 1]\n",
      "[1 1 1]\n",
      "[1 1 1]\n",
      "FaceId 2:\n",
      "[2 2 2]\n",
      "[2 2 2]\n",
      "[2 2 2]\n",
      "FaceId 3:\n",
      "[3 3 3]\n",
      "[3 3 3]\n",
      "[3 3 3]\n",
      "FaceId 4:\n",
      "[4 4 4]\n",
      "[4 4 4]\n",
      "[4 4 4]\n",
      "FaceId 5:\n",
      "[5 5 5]\n",
      "[5 5 5]\n",
      "[5 5 5]\n"
     ]
    }
   ],
   "source": [
    "My3DCube.print_all_faces()"
   ]
  },
  {
   "cell_type": "markdown",
   "metadata": {},
   "source": [
    "### I.2 Initial state\n",
    "When first instantiated, the Cube is in a \"Solved\" state, corresponding to a uniform distribution of Cubies colors within their containing faces."
   ]
  },
  {
   "cell_type": "code",
   "execution_count": 4,
   "metadata": {},
   "outputs": [
    {
     "data": {
      "text/plain": [
       "True"
      ]
     },
     "execution_count": 4,
     "metadata": {},
     "output_type": "execute_result"
    }
   ],
   "source": [
    "# Returns true if the Cube is in its solved state\n",
    "My3DCube.is_solved()"
   ]
  },
  {
   "cell_type": "markdown",
   "metadata": {},
   "source": [
    "This initial state also corresponds to 0 (int) moves-count as no rotation has been applied to the cube, the log of the applied algorithms (str) is empty as well for the same reason. "
   ]
  },
  {
   "cell_type": "code",
   "execution_count": 5,
   "metadata": {},
   "outputs": [
    {
     "name": "stdout",
     "output_type": "stream",
     "text": [
      "Instruction history count : 0\n",
      "Instruction history log : \n"
     ]
    }
   ],
   "source": [
    "print(f\"Instruction history count : {My3DCube.get_alg_count()}\")\n",
    "print(f\"Instruction history log : {My3DCube.get_alg_log()}\")"
   ]
  },
  {
   "cell_type": "markdown",
   "metadata": {},
   "source": [
    "### I.3 Algorithms\n",
    "In the context of solving a Rubik's Cube, an \"algorithm\" refers to a predefined sequence of moves that achieves a specific outcome on the cube. These sequences are designed to manipulate certain pieces of the cube into desired positions and orientations. \n",
    "\n",
    "#### A. Applying elementary moves\n",
    "The basic moves we can apply to a Cube are rotations of faces *(or inner-layers for dimensions > 3x3)* folowing one of the three axes x, y or z. These moves change alter the state of the cube and result in a new **permutation**.  \n",
    "The common way to describe such moves is to specify :\n",
    "- The face along which the rotation will be applied *(each face corresponds to one 3D axis)*\n",
    "- The turn sign in term of Clockwise *(+90 degrees)* or Counterclockwise *(-90 degrees)*\n",
    "- *(If dimension > 3x3)* The cube layer to turn, whether it's an outer layer (face) or an inner one. \n",
    "\n",
    "Following the faces notations formerly introduced, the commonly used move notation for 3x3 Rubik's Cube is : \n",
    "- Capital letter of the face : Clockwise 90 degrees rotation of that face *(e.g. move=\"B\")*.\n",
    "- Capital letter of the face + ' : Counterclockwise 90 degrees rotation of that face *(e.g. move=\"U'\")*.\n",
    "- Capital letter of the face + 2 : 180 rotation of that face *(e.g. move=\"F2\")*\n",
    "\n",
    "**Note** : \n",
    "Given its odd-dimension, the standard Rubik's Cube faces have fixed center cubies that serve as a reference to the colour the whole face should have in a solved state. This the inner layers *(3 in total)* along with their centers *(6 in total)* are not meant to be moved. "
   ]
  },
  {
   "cell_type": "code",
   "execution_count": 6,
   "metadata": {},
   "outputs": [
    {
     "data": {
      "image/png": "[encoded data removed]",
      "text/plain": [
       "<Figure size 640x480 with 12 Axes>"
      ]
     },
     "metadata": {},
     "output_type": "display_data"
    }
   ],
   "source": [
    "# Example of turning the front face Counterclockwise\n",
    "# Affected faces are the adjacent ones, namely U,L,D and R\n",
    "My3DCube.apply_algorithm(\"F'\")\n",
    "My3DCube.display()"
   ]
  },
  {
   "cell_type": "markdown",
   "metadata": {},
   "source": [
    "The inner state of the cube is updated and so is the solving state and the algorithm's steps-count and log : "
   ]
  },
  {
   "cell_type": "code",
   "execution_count": 7,
   "metadata": {},
   "outputs": [
    {
     "name": "stdout",
     "output_type": "stream",
     "text": [
      "New algorithm history count : 1\n",
      "New algorithm history log : F'\n",
      "Cube solved ? : False\n"
     ]
    }
   ],
   "source": [
    "print(f\"New algorithm history count : {My3DCube.get_alg_count()}\")\n",
    "print(f\"New algorithm history log : {My3DCube.get_alg_log()}\")\n",
    "print(f\"Cube solved ? : {My3DCube.is_solved()}\")"
   ]
  },
  {
   "cell_type": "markdown",
   "metadata": {},
   "source": [
    "#### B. Applying elementary moves\n",
    "In order to apply serie of moves *(bulk algorithm)*, we pass a serie of elementary instructions (str) separated by a semicolon\";\" to the `apply_algorithm` method. In the following example we apply : \n",
    "- \"U\" : Clockwise turn of the Upper face\n",
    "- \"L2\" : Double turn of the Left face\n",
    "- \"D'\" : Counterclockwise turn of the Down face"
   ]
  },
  {
   "cell_type": "code",
   "execution_count": 8,
   "metadata": {},
   "outputs": [
    {
     "data": {
      "image/png": "[encoded data removed]",
      "text/plain": [
       "<Figure size 640x480 with 12 Axes>"
      ]
     },
     "metadata": {},
     "output_type": "display_data"
    }
   ],
   "source": [
    "# Applying more moves \n",
    "My3DCube.apply_algorithm(\"U;L2;D'\")\n",
    "My3DCube.display()"
   ]
  },
  {
   "cell_type": "code",
   "execution_count": 9,
   "metadata": {},
   "outputs": [
    {
     "name": "stdout",
     "output_type": "stream",
     "text": [
      "New algorithm history count : 4\n",
      "New algorithm history log : F';U;L2;D'\n"
     ]
    }
   ],
   "source": [
    "print(f\"New algorithm history count : {My3DCube.get_alg_count()}\")\n",
    "print(f\"New algorithm history log : {My3DCube.get_alg_log()}\")"
   ]
  },
  {
   "cell_type": "markdown",
   "metadata": {},
   "source": [
    "#### C. Reversing moves\n",
    "In order to reverse moves, one can call `reverse_back(steps : int)` with the number of steps to reverse, which will internally compute and **apply** counter-moves up to a depth of `steps` passed by the user. Here is an example of a reversing of the 2 latest moves \"L2;D\" :  "
   ]
  },
  {
   "cell_type": "code",
   "execution_count": 10,
   "metadata": {},
   "outputs": [
    {
     "name": "stdout",
     "output_type": "stream",
     "text": [
      "After reverse algorithm history count : 6\n",
      "After reverse algorithm history log : F';U;L2;D';D;L2\n"
     ]
    }
   ],
   "source": [
    "My3DCube.reverse_back(steps=2)\n",
    "print(f\"After reverse algorithm history count : {My3DCube.get_alg_count()}\")\n",
    "print(f\"After reverse algorithm history log : {My3DCube.get_alg_log()}\")"
   ]
  },
  {
   "cell_type": "markdown",
   "metadata": {},
   "source": [
    "Reverse operations are appended to the log and not removed/dequeued. If you want to reset the whole cube by removing the log and re-initializing the algorithm count, you can call the `reset()` method."
   ]
  },
  {
   "cell_type": "code",
   "execution_count": 11,
   "metadata": {},
   "outputs": [
    {
     "name": "stdout",
     "output_type": "stream",
     "text": [
      "Cube reset successfully!\n",
      "After reset algorithm history count : 0\n",
      "After reset algorithm history log : \n"
     ]
    }
   ],
   "source": [
    "My3DCube.reset()\n",
    "print(f\"After reset algorithm history count : {My3DCube.get_alg_count()}\")\n",
    "print(f\"After reset algorithm history log : {My3DCube.get_alg_log()}\")"
   ]
  },
  {
   "cell_type": "markdown",
   "metadata": {},
   "source": [
    "#### D. Scrambling the Cube\n",
    "Scrambling refers to the random shuffling of the cube by applying a serie of random moves to get the cube to a non solved state. This can be achieved through the "
   ]
  },
  {
   "cell_type": "code",
   "execution_count": 12,
   "metadata": {},
   "outputs": [
    {
     "name": "stdout",
     "output_type": "stream",
     "text": [
      "Cube reset successfully!\n"
     ]
    },
    {
     "data": {
      "image/png": "[encoded data removed]",
      "text/plain": [
       "<Figure size 640x480 with 12 Axes>"
      ]
     },
     "metadata": {},
     "output_type": "display_data"
    },
    {
     "name": "stdout",
     "output_type": "stream",
     "text": [
      "After scrambling from initial state, algorithm history log is : B2;D;U2;L;F';B;U';F;F;D'\n"
     ]
    }
   ],
   "source": [
    "# 10-steps scrambling \n",
    "My3DCube.reset() # Making sure Cube is in its initial state for a clean log\n",
    "My3DCube.scramble(steps=10)\n",
    "My3DCube.display()\n",
    "print(f\"After scrambling from initial state, algorithm history log is : {My3DCube.get_alg_log()}\")"
   ]
  },
  {
   "cell_type": "markdown",
   "metadata": {},
   "source": [
    "### I.3 4D Cube\n",
    "The 4x4 Rubik's Cube, also known as the **Rubik's Revenge**, is a more complex variant of the standard 3x3 Rubik's Cube. It was invented by *Péter Sebestény* and released in 1981. Here's an overview of its features and the complexity it presents compared to the standard 3x3 cube:\n",
    "- **Structure**: The 4x4 cube has sixteen squares per face in its 6 faces *(Vs. nine squares in the 3x3)*. This results in a significantly greater number of possible configurations. Thus in term of complexity and while the 3x3 Rubik's Cube has about 43 quintillion possible positions, the 4x4 cube has **7.40 x 10^45** possible positions!\n",
    "- **No Fixed Centers**: One of the key differences in the 4x4 cube is that it lacks fixed center pieces *(Which is the case for all even-dimensional cubes)*. Unlike the fixed-centers 3x3 Cube, there are four center pieces per face in the 4x4 cube, **none of which are fixed**, adding an extra layer of complexity as one has to determine the correct color arrangement for the centers relatively to other faces."
   ]
  },
  {
   "cell_type": "code",
   "execution_count": 13,
   "metadata": {},
   "outputs": [
    {
     "data": {
      "image/png": "[encoded data removed]",
      "text/plain": [
       "<Figure size 640x480 with 12 Axes>"
      ]
     },
     "metadata": {},
     "output_type": "display_data"
    }
   ],
   "source": [
    "# 3D Cube instatiation & display\n",
    "My4DCube = rc.RubikCube(dim=4)\n",
    "My4DCube.display()"
   ]
  },
  {
   "cell_type": "markdown",
   "metadata": {},
   "source": [
    "All methods and utilities formerly presented with the 3x3 Cube apply to the Rubik's Revenge. However, given that the inner layers of the 4x4 cube are free to move, an extra set of moves notation is introduced to handle these. \n",
    "\n",
    "For each face represented by its capital letter *(e.g. F:Front face)*, the lower case version *f* refers to the first inner layer right behind that face. The modifiers introduced previously are valid in these cases as well, so that \"f'\" refers to the counter-clockwise turn of the inner front layer, and \"f2\" to the double turn of this layer. Following are some examples : "
   ]
  },
  {
   "cell_type": "code",
   "execution_count": 14,
   "metadata": {},
   "outputs": [
    {
     "data": {
      "image/png": "[encoded data removed]",
      "text/plain": [
       "<Figure size 640x480 with 12 Axes>"
      ]
     },
     "metadata": {},
     "output_type": "display_data"
    }
   ],
   "source": [
    "My4DCube.apply_algorithm(\"f;b2\")\n",
    "My4DCube.display()"
   ]
  }
 ],
 "metadata": {
  "kernelspec": {
   "display_name": "Python 3",
   "language": "python",
   "name": "python3"
  },
  "language_info": {
   "codemirror_mode": {
    "name": "ipython",
    "version": 3
   },
   "file_extension": ".py",
   "mimetype": "text/x-python",
   "name": "python",
   "nbconvert_exporter": "python",
   "pygments_lexer": "ipython3",
   "version": "3.10.12"
  }
 },
 "nbformat": 4,
 "nbformat_minor": 2
}
